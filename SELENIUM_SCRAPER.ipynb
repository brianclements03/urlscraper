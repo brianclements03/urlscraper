{
 "cells": [
  {
   "cell_type": "code",
   "execution_count": 1,
   "id": "66279494",
   "metadata": {},
   "outputs": [],
   "source": [
    "import os\n",
    "os.environ['REQUESTS_CA_BUNDLE'] = r\"C:\\Users\\brian.clements\\Documents\\RAG_POC\\Env_Setup\\company-root-ca.crt\""
   ]
  },
  {
   "cell_type": "code",
   "execution_count": 2,
   "id": "550e8110",
   "metadata": {},
   "outputs": [],
   "source": [
    "from selenium import webdriver\n",
    "from webdriver_manager.chrome import ChromeDriverManager\n",
    "\n",
    "# Optional if customizing the loader\n",
    "# driver = webdriver.Chrome(ChromeDriverManager().install())"
   ]
  },
  {
   "cell_type": "code",
   "execution_count": 3,
   "id": "fb078cf8",
   "metadata": {},
   "outputs": [
    {
     "name": "stderr",
     "output_type": "stream",
     "text": [
      "Error sending stats to Plausible: error sending request for url (https://plausible.io/api/event)\n"
     ]
    },
    {
     "name": "stdout",
     "output_type": "stream",
     "text": [
      "Programming\n",
      "\n",
      "Learn all you need to know about the Arduino programming language as well as other compatible languages.\n",
      "\n",
      "Language Reference\n",
      "\n",
      "Serial\n",
      "\n",
      "Wire\n",
      "\n",
      "Print\n",
      "\n",
      "attachInterrupt()\n",
      "\n",
      "pinMode()\n",
      "\n",
      "String()\n",
      "\n",
      "view all\n",
      "\n",
      "Libraries\n",
      "\n",
      "LiquidCrystal\n",
      "\n",
      "Servo\n",
      "\n",
      "LiquidCrystal I2C\n",
      "\n",
      "WiFi\n",
      "\n",
      "SD\n",
      "\n",
      "Stepper\n",
      "\n",
      "view all\n",
      "\n",
      "Built-in Examples\n",
      "\n",
      "How to Wire and Program a Button\n",
      "\n",
      "Blink\n",
      "\n",
      "If Statement (Conditional Statement)\n",
      "\n",
      "Arduino as ISP and Arduino Bootloaders\n",
      "\n",
      "Analog Read Serial\n",
      "\n",
      "String to Int Function\n",
      "\n",
      "view all\n",
      "\n",
      "MicroPython\n",
      "\n",
      "Digi\n"
     ]
    }
   ],
   "source": [
    "from langchain_community.document_loaders import SeleniumURLLoader\n",
    "\n",
    "loader = SeleniumURLLoader(urls=[\"https://docs.arduino.cc/programming/\"])\n",
    "docs = loader.load()\n",
    "\n",
    "print(docs[0].page_content[:500])\n"
   ]
  },
  {
   "cell_type": "code",
   "execution_count": 4,
   "id": "9c0a716d",
   "metadata": {},
   "outputs": [
    {
     "data": {
      "text/plain": [
       "{'source': 'https://docs.arduino.cc/programming/',\n",
       " 'title': 'Programming | Arduino Documentation',\n",
       " 'description': 'Learn all you need to know about the Arduino programming language as well as other compatible languages.',\n",
       " 'language': 'No language found.'}"
      ]
     },
     "execution_count": 4,
     "metadata": {},
     "output_type": "execute_result"
    }
   ],
   "source": [
    "docs = loader.load()\n",
    "docs[0].metadata"
   ]
  },
  {
   "cell_type": "code",
   "execution_count": 5,
   "id": "d34dcd96",
   "metadata": {},
   "outputs": [
    {
     "name": "stdout",
     "output_type": "stream",
     "text": [
      "Programming\n",
      "\n",
      "Learn all you need to know about the Arduino programming language as well as other compatible languages.\n",
      "\n",
      "Language Reference\n",
      "\n",
      "Serial\n",
      "\n",
      "Wire\n",
      "\n",
      "Print\n",
      "\n",
      "attachInterrupt()\n",
      "\n",
      "pinMode()\n",
      "\n",
      "String()\n",
      "\n",
      "view all\n",
      "\n",
      "Libraries\n",
      "\n",
      "LiquidCrystal\n",
      "\n",
      "Servo\n",
      "\n",
      "LiquidCrystal I2C\n",
      "\n",
      "WiFi\n",
      "\n",
      "SD\n",
      "\n",
      "Stepper\n",
      "\n",
      "view all\n",
      "\n",
      "Built-in \n"
     ]
    }
   ],
   "source": [
    "print(docs[0].page_content[:300])"
   ]
  },
  {
   "cell_type": "code",
   "execution_count": 6,
   "id": "835c692e",
   "metadata": {},
   "outputs": [],
   "source": [
    "pages = []\n",
    "for doc in loader.lazy_load():\n",
    "    pages.append(doc)\n",
    "    if len(pages) >= 10:\n",
    "        # do some paged operation, e.g.\n",
    "        # index.upsert(page)\n",
    "\n",
    "        pages = []"
   ]
  },
  {
   "cell_type": "code",
   "execution_count": 7,
   "id": "dbc089ca",
   "metadata": {},
   "outputs": [
    {
     "name": "stdout",
     "output_type": "stream",
     "text": [
      "Programming\n",
      "\n",
      "Learn all you need to know about the Arduino programming language as well as other compatible languages.\n",
      "\n",
      "Language Reference\n",
      "\n",
      "Serial\n",
      "\n",
      "Wire\n",
      "\n",
      "Print\n",
      "\n",
      "attachInterrupt()\n",
      "\n",
      "pinMode()\n",
      "\n",
      "String()\n",
      "\n",
      "\n"
     ]
    }
   ],
   "source": [
    "import re\n",
    "\n",
    "from bs4 import BeautifulSoup\n",
    "\n",
    "\n",
    "def bs4_extractor(html: str) -> str:\n",
    "    soup = BeautifulSoup(html, \"lxml\")\n",
    "    return re.sub(r\"\\n\\n+\", \"\\n\\n\", soup.text).strip()\n",
    "\n",
    "\n",
    "loader = SeleniumURLLoader(urls=[\"https://docs.arduino.cc/programming/\"])  #RecursiveUrlLoader(\"https://docs.python.org/3.9/\", extractor=bs4_extractor)\n",
    "docs = loader.load()\n",
    "print(docs[0].page_content[:200])"
   ]
  },
  {
   "cell_type": "code",
   "execution_count": null,
   "id": "055a80d8",
   "metadata": {},
   "outputs": [],
   "source": []
  }
 ],
 "metadata": {
  "kernelspec": {
   "display_name": "Python 3",
   "language": "python",
   "name": "python3"
  },
  "language_info": {
   "codemirror_mode": {
    "name": "ipython",
    "version": 3
   },
   "file_extension": ".py",
   "mimetype": "text/x-python",
   "name": "python",
   "nbconvert_exporter": "python",
   "pygments_lexer": "ipython3",
   "version": "3.10.0"
  }
 },
 "nbformat": 4,
 "nbformat_minor": 5
}
